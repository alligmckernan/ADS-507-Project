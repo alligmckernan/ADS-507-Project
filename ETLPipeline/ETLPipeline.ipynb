{
 "cells": [
  {
   "cell_type": "code",
   "execution_count": 20,
   "id": "ff0db19f-6827-44f8-802c-aeaaf16332ea",
   "metadata": {},
   "outputs": [
    {
     "name": "stdout",
     "output_type": "stream",
     "text": [
      "['WALL·E', 'Gran Torino', '88 Minutes (2008)', \"My Mom's New Boyfriend (2008)\", 'Be Kind Rewind (2008)']\n"
     ]
    },
    {
     "name": "stderr",
     "output_type": "stream",
     "text": [
      "C:\\Users\\allig\\AppData\\Local\\Temp\\ipykernel_22208\\2683737792.py:36: FutureWarning: Setting an item of incompatible dtype is deprecated and will raise an error in a future version of pandas. Value '' has dtype incompatible with float64, please explicitly cast to a compatible dtype first.\n",
      "  df.fillna('', inplace=True)\n"
     ]
    }
   ],
   "source": [
    "import pandas as pd\n",
    "import numpy as np\n",
    "\n",
    "imdb_path = '/Users/allig/ads/507/IMDBTop250Movies_Cleaned.csv'\n",
    "movies_path = '/Users/allig/ads/507/cleaned_movies.csv'\n",
    "netflix_path = '/Users/allig/ads/507/netflix_cleaned.csv'\n",
    "# Function to load and clean datasets\n",
    "def load_and_clean_data(imdb_path, movies_path, netflix_path):\n",
    "    # Load datasets\n",
    "    df_imdb = pd.read_csv(imdb_path)\n",
    "    df_movies = pd.read_csv(movies_path)\n",
    "    df_netflix = pd.read_csv(netflix_path)\n",
    "\n",
    "\n",
    "    # Standardize column names\n",
    "    for df in [df_imdb, df_movies, df_netflix]:\n",
    "        df.columns = df.columns.str.strip().str.lower().str.replace(\" \", \"_\")\n",
    "    \n",
    "    # Convert year to integer\n",
    "    for df in [df_imdb, df_movies, df_netflix]:\n",
    "        if 'year' in df.columns:\n",
    "            df['year'] = pd.to_numeric(df['year'], errors='coerce').fillna(0).astype(int)\n",
    "    \n",
    "    return df_imdb, df_movies, df_netflix\n",
    "\n",
    "def transform_data(df_imdb, df_movies, df_netflix):\n",
    "    # Merge datasets\n",
    "    df = pd.concat([df_imdb, df_movies, df_netflix], ignore_index=True)\n",
    "    \n",
    "    # Handle missing values \n",
    "    df['rating'] = pd.to_numeric(df['rating'], errors='coerce') if 'rating' in df else 0\n",
    "    df['box_office'] = pd.to_numeric(df['box_office'], errors='coerce').fillna(0) if 'box_office' in df else 0\n",
    "    df['budget'] = pd.to_numeric(df['budget'], errors='coerce').fillna(0) if 'budget' in df else 0\n",
    "    \n",
    "    # Fill NaNs\n",
    "    df.fillna('', inplace=True)\n",
    "    \n",
    "    return df\n",
    "\n",
    "def recommend_movies(df, movie_name):\n",
    "    if 'name' not in df.columns:\n",
    "        raise KeyError(\"The dataset must contain a 'name' column for recommendations.\")\n",
    "    \n",
    "    # Dummy recommendation logic: Find movies from the same year\n",
    "    movie_row = df[df['name'].str.lower() == movie_name.lower()]\n",
    "    if movie_row.empty:\n",
    "        return f\"Movie '{movie_name}' not found in dataset.\"\n",
    "    \n",
    "    movie_year = movie_row['year'].values[0]\n",
    "    recommendations = df[df['year'] == movie_year]['name'].tolist()\n",
    "    recommendations.remove(movie_name) if movie_name in recommendations else None\n",
    "    \n",
    "    return recommendations[:5] if recommendations else \"No similar movies found.\"\n",
    "\n",
    "def etl_pipeline(imdb_path, movies_path, netflix_path, movie_name):\n",
    "    df_imdb, df_movies, df_netflix = load_and_clean_data(imdb_path, movies_path, netflix_path)\n",
    "    df_transformed = transform_data(df_imdb, df_movies, df_netflix)\n",
    "    return recommend_movies(df_transformed, movie_name)\n",
    "\n",
    "\n",
    "# Example usage\n",
    "imdb_file = '/Users/allig/ads/507/IMDBTop250Movies_Cleaned.csv'\n",
    "movies_file = '/Users/allig/ads/507/cleaned_movies.csv'\n",
    "netflix_file = '/Users/allig/ads/507/netflix_cleaned.csv'\n",
    "movie_to_recommend = \"The Dark Knight\"\n",
    "print(etl_pipeline(imdb_file, movies_file, netflix_file, movie_to_recommend))\n"
   ]
  },
  {
   "cell_type": "code",
   "execution_count": null,
   "id": "97d44ec0-8e47-430c-b64f-8d4e0635559d",
   "metadata": {},
   "outputs": [],
   "source": []
  },
  {
   "cell_type": "code",
   "execution_count": null,
   "id": "a9827a82-8b6f-4d68-a966-4f0ab81f95d7",
   "metadata": {},
   "outputs": [],
   "source": []
  }
 ],
 "metadata": {
  "kernelspec": {
   "display_name": "Python 3 (ipykernel)",
   "language": "python",
   "name": "python3"
  },
  "language_info": {
   "codemirror_mode": {
    "name": "ipython",
    "version": 3
   },
   "file_extension": ".py",
   "mimetype": "text/x-python",
   "name": "python",
   "nbconvert_exporter": "python",
   "pygments_lexer": "ipython3",
   "version": "3.12.4"
  }
 },
 "nbformat": 4,
 "nbformat_minor": 5
}
