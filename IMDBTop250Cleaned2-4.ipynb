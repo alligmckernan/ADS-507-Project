{
 "cells": [
  {
   "cell_type": "markdown",
   "id": "ac5daefa-c150-405d-be27-a0e4db1497dd",
   "metadata": {},
   "source": [
    "What this script does:\n",
    "1. Loads the dataset from a CSV file.\n",
    "2. Converts run_time to total minutes.\n",
    "3. Standardizes budget and box_office by converting them to numeric values.\n",
    "4. Splits multi-value columns (genre, casts, directors, writers) into lists for better analysis.\n",
    "5. Handles missing values and standardizes the certificate column.\n",
    "6. Saves the cleaned dataset as IMDBTop250Movies_Cleaned.csv."
   ]
  },
  {
   "cell_type": "code",
   "execution_count": 3,
   "id": "2afc495b-6a5d-4de3-8525-13ae02281fea",
   "metadata": {},
   "outputs": [
    {
     "name": "stdout",
     "output_type": "stream",
     "text": [
      "Preprocessing complete. Cleaned dataset saved as 'IMDBTop250Movies_Cleaned.csv'.\n"
     ]
    }
   ],
   "source": [
    "import pandas as pd\n",
    "import numpy as np\n",
    "\n",
    "# Load the dataset\n",
    "file_path = '/Users/allig/ads/507/IMDBTop250Movies.csv' \n",
    "df = pd.read_csv(file_path)\n",
    "\n",
    "# Function to convert 'run_time' to minutes\n",
    "def convert_runtime(runtime):\n",
    "    if pd.isna(runtime):\n",
    "        return np.nan\n",
    "    hours = 0\n",
    "    minutes = 0\n",
    "    if 'h' in runtime:\n",
    "        hours = int(runtime.split('h')[0])\n",
    "        runtime = runtime.split('h')[1]\n",
    "    if 'm' in runtime:\n",
    "        minutes = int(runtime.split('m')[0].strip())\n",
    "    return hours * 60 + minutes\n",
    "\n",
    "df['run_time'] = df['run_time'].apply(convert_runtime)\n",
    "\n",
    "# Function to convert currency values to numeric\n",
    "def convert_currency(value):\n",
    "    if isinstance(value, str):\n",
    "        value = value.replace(',', '').strip()\n",
    "        if value.isdigit():\n",
    "            return float(value)\n",
    "        if 'million' in value.lower():\n",
    "            return float(value.split()[0]) * 1e6\n",
    "        if 'billion' in value.lower():\n",
    "            return float(value.split()[0]) * 1e9\n",
    "    return np.nan\n",
    "\n",
    "df['budget'] = df['budget'].apply(convert_currency)\n",
    "df['box_office'] = df['box_office'].apply(convert_currency)\n",
    "\n",
    "# Convert multi-value columns to lists\n",
    "multi_value_columns = ['genre', 'casts', 'directors', 'writers']\n",
    "for col in multi_value_columns:\n",
    "    df[col] = df[col].apply(lambda x: x.split(',') if isinstance(x, str) else [])\n",
    "\n",
    "# Standardizing 'certificate' (handling missing values)\n",
    "df['certificate'] = df['certificate'].replace({'Not Rated': np.nan}).fillna('Unknown')\n",
    "\n",
    "# Save the cleaned dataset\n",
    "cleaned_file_path = \"IMDBTop250Movies_Cleaned.csv\"\n",
    "df.to_csv(cleaned_file_path, index=False)\n",
    "\n",
    "print(f\"Preprocessing complete. Cleaned dataset saved as '{cleaned_file_path}'.\")"
   ]
  },
  {
   "cell_type": "code",
   "execution_count": null,
   "id": "4b22881b-c8d8-4357-ab02-85d9291265aa",
   "metadata": {},
   "outputs": [],
   "source": []
  }
 ],
 "metadata": {
  "kernelspec": {
   "display_name": "Python 3 (ipykernel)",
   "language": "python",
   "name": "python3"
  },
  "language_info": {
   "codemirror_mode": {
    "name": "ipython",
    "version": 3
   },
   "file_extension": ".py",
   "mimetype": "text/x-python",
   "name": "python",
   "nbconvert_exporter": "python",
   "pygments_lexer": "ipython3",
   "version": "3.12.4"
  }
 },
 "nbformat": 4,
 "nbformat_minor": 5
}
